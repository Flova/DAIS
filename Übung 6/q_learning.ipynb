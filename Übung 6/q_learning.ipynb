{
 "cells": [
  {
   "cell_type": "code",
   "execution_count": 2,
   "metadata": {},
   "outputs": [],
   "source": [
    "import random\n",
    "from time import sleep\n",
    "\n",
    "import gym\n",
    "import numpy as np\n",
    "from IPython.display import clear_output\n",
    "import matplotlib.pyplot as plt"
   ]
  },
  {
   "cell_type": "code",
   "execution_count": 3,
   "metadata": {},
   "outputs": [],
   "source": [
    "# Create our testing environment. This will act as the MDP for our algorithm.\n",
    "env = gym.make(\"Taxi-v3\")"
   ]
  },
  {
   "cell_type": "code",
   "execution_count": 66,
   "metadata": {
    "tags": []
   },
   "outputs": [
    {
     "name": "stdout",
     "output_type": "stream",
     "text": [
      "Possible observations: 500\n",
      "Available actions: 6\n"
     ]
    }
   ],
   "source": [
    "num_observations = env.observation_space.n  # The number of possible states of the environment.\n",
    "num_actions = env.action_space.n  # The number of available actions in each state.\n",
    "print('Possible observations:', num_observations)\n",
    "print('Available actions:', num_actions)"
   ]
  },
  {
   "cell_type": "code",
   "execution_count": 5,
   "metadata": {},
   "outputs": [],
   "source": [
    "alpha = 0.1  # The learning rate.\n",
    "gamma = 0.5  # The discount factor.\n",
    "epsilon = 0.1  # The exploration probability."
   ]
  },
  {
   "cell_type": "code",
   "execution_count": 81,
   "metadata": {
    "tags": []
   },
   "outputs": [
    {
     "name": "stdout",
     "output_type": "stream",
     "text": [
      "+---------+\n",
      "|R: | : :\u001b[35m\u001b[34;1m\u001b[43mG\u001b[0m\u001b[0m\u001b[0m|\n",
      "| : | : : |\n",
      "| : : : : |\n",
      "| | : | : |\n",
      "|Y| : |B: |\n",
      "+---------+\n",
      "  (Dropoff)\n",
      "Episode:  800\n",
      "Reward:  20\n",
      "Return so far:  0\n"
     ]
    }
   ],
   "source": [
    "# This is the main loop.\n",
    "num_train_episodes = 1000  # Modify to tune for convergence\n",
    "render = True  # Set to False to speed up training\n",
    "returns = []\n",
    "# This creates our Q-table: A two-dimensional array of all zeros.\n",
    "q_table = np.zeros([num_observations, num_actions])\n",
    "print('Shape of the Q-table:', q_table.shape)\n",
    "\n",
    "def best_action(observation):\n",
    "    q_value, action = float(\"-inf\"), -1\n",
    "\n",
    "    actions = q_table[observation]\n",
    "\n",
    "    for a, q in enumerate(actions):\n",
    "        if q > q_value:\n",
    "            q_value = q\n",
    "            action = a\n",
    "\n",
    "    # select best action with epsilon greed policy\n",
    "    best_probability = 1 - epsilon\n",
    "    other = epsilon / (num_actions - 1)\n",
    "    \n",
    "    probabilities = []\n",
    "    \n",
    "    for a in range(num_actions):\n",
    "        if a == action:\n",
    "            p = best_probability\n",
    "        else:\n",
    "            p = other\n",
    "        probabilities.append(p)\n",
    "\n",
    "    action = np.random.choice(list(range(num_actions)), p=probabilities)\n",
    "\n",
    "    # return the action and its current q_value for the given state (observation)\n",
    "    return action, actions[action]\n",
    "\n",
    "for episode in range(1, num_train_episodes):\n",
    "    # By resetting the environment you also get the initial observation or \"state\".\n",
    "    observation = env.reset()\n",
    "\n",
    "    # Repeat until the environment is done.\n",
    "    done = False\n",
    "    episode_return = 0\n",
    "    \n",
    "    # ME: select best action for initial state with epsilon-greedy\n",
    "    action, q_value = best_action(observation) \n",
    "    \n",
    "    while not done:\n",
    "        # Perform the chosen action in the environment to get reward values and the next observation.\n",
    "        next_observation, reward, done, _ = env.step(action)\n",
    "        \n",
    "        # Update your Q-table based on the information you gathered!\n",
    "        next_action, next_q_value = best_action(next_observation) \n",
    "        # TODO: This is where the magic (learning) happens.\n",
    "        \n",
    "        # ME: calculate the td_error depending on the maximum q_value for the next state\n",
    "        td_error = reward + (gamma * np.max(q_table[next_observation])) - q_value\n",
    "        # ME: update the q_table for the current state and action\n",
    "        q_table[observation, action] = q_value + (alpha * td_error)\n",
    "        \n",
    "        # Step the observation\n",
    "        observation = next_observation\n",
    "        # ME: update action\n",
    "        action = next_action\n",
    "        # ME: update q_value\n",
    "        q_value = next_q_value\n",
    "                \n",
    "        # For performance reasons, only display every 200th episode.\n",
    "        episode_return += reward\n",
    "        if render and episode % 200 == 0:\n",
    "            clear_output(wait=True)\n",
    "            env.render()\n",
    "            print(\"Episode: \", episode)\n",
    "            print(\"Reward: \", reward)\n",
    "            print(\"Return so far: \", episode_return)\n",
    "            # Wait a little bit. We don't want to go too fast.\n",
    "            sleep(0.1)\n",
    "    returns.append(episode_return)"
   ]
  },
  {
   "cell_type": "code",
   "execution_count": 82,
   "metadata": {},
   "outputs": [
    {
     "data": {
      "image/png": "[encoded data removed]",
      "text/plain": [
       "<Figure size 432x288 with 1 Axes>"
      ]
     },
     "metadata": {
      "needs_background": "light"
     },
     "output_type": "display_data"
    }
   ],
   "source": [
    "mean_return = round(np.mean(returns), 2)\n",
    "plt.plot(returns)\n",
    "plt.xlabel(\"Episodes\")\n",
    "plt.ylabel(\"Return\")\n",
    "plt.title(\"Mean return: \" +  str(mean_return))\n",
    "plt.show()"
   ]
  },
  {
   "cell_type": "code",
   "execution_count": 83,
   "metadata": {},
   "outputs": [
    {
     "data": {
      "text/plain": [
       "array([[ 0.        ,  0.        ,  0.        ,  0.        ,  0.        ,\n",
       "         0.        ],\n",
       "       [-1.94151475, -1.94255943, -1.94296609, -1.94031737, -1.94005525,\n",
       "        -6.07686418],\n",
       "       [-1.63707156, -1.62386111, -1.58152823, -1.57855153, -1.37595524,\n",
       "        -4.97776041],\n",
       "       ...,\n",
       "       [-1.20496161, -1.17088099, -1.17234391, -1.18874011, -2.81352975,\n",
       "        -2.74878716],\n",
       "       [-1.79676005, -1.79567739, -1.79378804, -1.78771489, -1.95008997,\n",
       "        -5.55104   ],\n",
       "       [-0.195     , -0.28075   , -0.195     ,  0.97932601, -1.005     ,\n",
       "        -1.905     ]])"
      ]
     },
     "execution_count": 83,
     "metadata": {},
     "output_type": "execute_result"
    }
   ],
   "source": [
    "q_table"
   ]
  },
  {
   "cell_type": "code",
   "execution_count": null,
   "metadata": {},
   "outputs": [],
   "source": []
  }
 ],
 "metadata": {
  "kernelspec": {
   "display_name": "Python 3",
   "language": "python",
   "name": "python3"
  },
  "language_info": {
   "codemirror_mode": {
    "name": "ipython",
    "version": 3
   },
   "file_extension": ".py",
   "mimetype": "text/x-python",
   "name": "python",
   "nbconvert_exporter": "python",
   "pygments_lexer": "ipython3",
   "version": "3.8.3"
  }
 },
 "nbformat": 4,
 "nbformat_minor": 4
}
